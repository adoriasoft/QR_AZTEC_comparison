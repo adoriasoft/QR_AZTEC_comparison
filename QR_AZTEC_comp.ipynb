{
 "cells": [
  {
   "cell_type": "markdown",
   "metadata": {},
   "source": [
    "# QR and AZTEC codes robustness comparisson"
   ]
  },
  {
   "cell_type": "code",
   "execution_count": 1,
   "metadata": {},
   "outputs": [],
   "source": [
    "import numpy as np\n",
    "import cv2 as cv\n",
    "from PIL import Image, ImageOps, ImageFilter\n",
    "import treepoem\n",
    "from zxing import *"
   ]
  },
  {
   "cell_type": "markdown",
   "metadata": {},
   "source": [
    "### 1) Generating Random Codes"
   ]
  },
  {
   "cell_type": "markdown",
   "metadata": {},
   "source": [
    "Codes will be generated as random sequences of random length and duplicated for both QR and AZTEC code."
   ]
  },
  {
   "cell_type": "code",
   "execution_count": 3,
   "metadata": {},
   "outputs": [],
   "source": [
    "np.random.seed(0)"
   ]
  },
  {
   "cell_type": "markdown",
   "metadata": {},
   "source": [
    "Let's generate 1k random codes."
   ]
  },
  {
   "cell_type": "code",
   "execution_count": 49,
   "metadata": {},
   "outputs": [],
   "source": [
    "import string\n",
    "import random"
   ]
  },
  {
   "cell_type": "code",
   "execution_count": 50,
   "metadata": {},
   "outputs": [],
   "source": [
    "NUM_SAMPLES = 1000\n",
    "random_char_field = string.ascii_letters + string.digits + \" \"\n",
    "keys = []"
   ]
  },
  {
   "cell_type": "code",
   "execution_count": 51,
   "metadata": {},
   "outputs": [],
   "source": [
    "random.seed(0)\n",
    "keys = [\"\".join(random.choices(random_char_field, k=random.randint(16, 64))) for _ in range(NUM_SAMPLES)] # GEN"
   ]
  },
  {
   "cell_type": "code",
   "execution_count": 57,
   "metadata": {},
   "outputs": [],
   "source": [
    "for ind, key in enumerate(keys):\n",
    "    qr = treepoem.generate_barcode(barcode_type=\"qrcode\", data=key, options={\"format\":\"full\", \"eclevel\":\"H\"})\n",
    "    qr.convert('1').save('qr/qr{}.png'.format(ind+1))\n",
    "    aztec = treepoem.generate_barcode(barcode_type=\"azteccode\", data=key, options={\"format\":\"full\"})\n",
    "    aztec.convert('1').save('aztec/aztec{}.png'.format(ind+1))"
   ]
  },
  {
   "cell_type": "code",
   "execution_count": 58,
   "metadata": {},
   "outputs": [],
   "source": [
    "import pickle\n",
    "\n",
    "with open(\"keys.pickle\", \"wb\") as f:\n",
    "    pickle.dump(keys, f)"
   ]
  },
  {
   "cell_type": "markdown",
   "metadata": {},
   "source": [
    "### 2) Defining check functions for each case of discrete pixel manipulation"
   ]
  },
  {
   "cell_type": "code",
   "execution_count": 63,
   "metadata": {},
   "outputs": [],
   "source": [
    "import tqdm\n",
    "import matplotlib.pyplot as plt\n",
    "from matplotlib import image\n",
    "%matplotlib inline"
   ]
  },
  {
   "cell_type": "code",
   "execution_count": 693,
   "metadata": {},
   "outputs": [],
   "source": [
    "def pixel_value_xor(fname: str, imtype: str, change_rate=.01, verbose=False) -> bool:\n",
    "    real_key = keys[int(fname.replace(imtype, \"\").replace(\".png\", \"\")) - 1]\n",
    "    img = cv.imread(imtype + \"/\" + fname, cv.IMREAD_GRAYSCALE)\n",
    "    \n",
    "    if verbose:\n",
    "        plt.imshow(img, cmap=\"gray\")\n",
    "        plt.show()\n",
    "    \n",
    "    _iter = int(img.shape[0] * img.shape[1] * change_rate)\n",
    "    change_set = set()\n",
    "    \n",
    "    for _ in range(_iter):\n",
    "        while 1:\n",
    "            _temp = (np.random.randint(0, img.shape[0]), np.random.randint(0, img.shape[1]))\n",
    "            if _temp not in change_set:\n",
    "                change_set.add(_temp)\n",
    "                break\n",
    "    \n",
    "    for x, y in change_set:\n",
    "        img[x][y] ^=  np.random.randint(0, 256)\n",
    "#         if img[x][y] > 255:\n",
    "#             img[x][y] = 255\n",
    "\n",
    "    if verbose:\n",
    "        plt.imshow(img, cmap=\"gray\")\n",
    "        plt.show()\n",
    "        \n",
    "    Image.fromarray(img).save(\"buff.png\")\n",
    "    zx = BarCodeReader()\n",
    "    bar = zx.decode(\"buff.png\", try_harder=False)\n",
    "#     print(bar)\n",
    "    \n",
    "    if bar is None:\n",
    "        return False\n",
    "    \n",
    "    if real_key == bar.raw:\n",
    "        return True\n",
    "    else:\n",
    "        return False"
   ]
  },
  {
   "cell_type": "code",
   "execution_count": 694,
   "metadata": {},
   "outputs": [
    {
     "data": {
      "image/png": "[encoded data removed]",
      "text/plain": [
       "<Figure size 432x288 with 1 Axes>"
      ]
     },
     "metadata": {
      "needs_background": "light"
     },
     "output_type": "display_data"
    },
    {
     "data": {
      "image/png": "[encoded data removed]",
      "text/plain": [
       "<Figure size 432x288 with 1 Axes>"
      ]
     },
     "metadata": {
      "needs_background": "light"
     },
     "output_type": "display_data"
    },
    {
     "name": "stdout",
     "output_type": "stream",
     "text": [
      "CPU times: user 751 ms, sys: 72.5 ms, total: 824 ms\n",
      "Wall time: 1.15 s\n"
     ]
    },
    {
     "data": {
      "text/plain": [
       "False"
      ]
     },
     "execution_count": 694,
     "metadata": {},
     "output_type": "execute_result"
    }
   ],
   "source": [
    "%%time\n",
    "pixel_value_xor(\"qr1.png\", \"qr\", verbose=True, change_rate=.03)"
   ]
  },
  {
   "cell_type": "code",
   "execution_count": 310,
   "metadata": {},
   "outputs": [],
   "source": [
    "def pixel_value_adding(fname: str, imtype: str, change_rate=.01, verbose=False) -> bool:\n",
    "    real_key = keys[int(fname.replace(imtype, \"\").replace(\".png\", \"\")) - 1]\n",
    "    img = cv.imread(imtype + \"/\" + fname, cv.IMREAD_GRAYSCALE)\n",
    "    \n",
    "    if verbose:\n",
    "        plt.imshow(img, cmap=\"gray\")\n",
    "        plt.show()\n",
    "    \n",
    "    _iter = int(img.shape[0] * img.shape[1] * change_rate)\n",
    "    change_set = set()\n",
    "    \n",
    "    for _ in range(_iter):\n",
    "        while 1:\n",
    "            _temp = (np.random.randint(0, img.shape[0]), np.random.randint(0, img.shape[1]))\n",
    "            if _temp not in change_set:\n",
    "                change_set.add(_temp)\n",
    "                break\n",
    "    \n",
    "    for x, y in change_set:\n",
    "        if img[x][y] == 255:\n",
    "            continue\n",
    "        img[x][y] +=  np.random.randint(0, 255-img[x][y])\n",
    "#         if img[x][y] > 255:\n",
    "#             img[x][y] = 255\n",
    "\n",
    "    if verbose:\n",
    "        plt.imshow(img, cmap=\"gray\")\n",
    "        plt.show()\n",
    "        \n",
    "    Image.fromarray(img).save(\"buff.png\")\n",
    "    zx = BarCodeReader()\n",
    "    bar = zx.decode(\"buff.png\")\n",
    "#     print(bar)\n",
    "    \n",
    "    if bar is None:\n",
    "        return False\n",
    "    \n",
    "    if real_key == bar.raw:\n",
    "        return True\n",
    "    else:\n",
    "        return False"
   ]
  },
  {
   "cell_type": "code",
   "execution_count": 435,
   "metadata": {},
   "outputs": [
    {
     "data": {
      "image/png": "[encoded data removed]",
      "text/plain": [
       "<Figure size 432x288 with 1 Axes>"
      ]
     },
     "metadata": {
      "needs_background": "light"
     },
     "output_type": "display_data"
    },
    {
     "data": {
      "image/png": "[encoded data removed]",
      "text/plain": [
       "<Figure size 432x288 with 1 Axes>"
      ]
     },
     "metadata": {
      "needs_background": "light"
     },
     "output_type": "display_data"
    },
    {
     "name": "stdout",
     "output_type": "stream",
     "text": [
      "CPU times: user 1.33 s, sys: 610 ms, total: 1.94 s\n",
      "Wall time: 2.66 s\n"
     ]
    },
    {
     "data": {
      "text/plain": [
       "True"
      ]
     },
     "execution_count": 435,
     "metadata": {},
     "output_type": "execute_result"
    }
   ],
   "source": [
    "%%time\n",
    "pixel_value_adding(\"qr1.png\", \"qr\", verbose=True, change_rate=.015)"
   ]
  },
  {
   "cell_type": "code",
   "execution_count": 262,
   "metadata": {},
   "outputs": [],
   "source": [
    "def pixel_value_float_multiplying(fname: str, imtype: str, change_rate=.01, verbose=False) -> bool:\n",
    "    real_key = keys[int(fname.replace(imtype, \"\").replace(\".png\", \"\")) - 1]\n",
    "    img = cv.imread(imtype + \"/\" + fname, cv.IMREAD_GRAYSCALE)\n",
    "    \n",
    "    if verbose:\n",
    "        plt.imshow(img, cmap=\"gray\")\n",
    "        plt.show()\n",
    "    \n",
    "    _iter = int(img.shape[0] * img.shape[1] * change_rate)\n",
    "    change_set = set()\n",
    "    \n",
    "    for _ in range(_iter):\n",
    "        while 1:\n",
    "            _temp = (np.random.randint(0, img.shape[0]), np.random.randint(0, img.shape[1]))\n",
    "            if _temp not in change_set:\n",
    "                change_set.add(_temp)\n",
    "                break\n",
    "    \n",
    "    for x, y in change_set:\n",
    "        img[x][y] = int(img[x][y] / np.random.randint(1, 255))\n",
    "    \n",
    "    if verbose:\n",
    "        plt.imshow(img, cmap=\"gray\")\n",
    "        plt.show()\n",
    "        \n",
    "    Image.fromarray(img).save(\"buff.png\")\n",
    "    zx = BarCodeReader()\n",
    "    bar = zx.decode(\"buff.png\")\n",
    "#     print(bar)\n",
    "    \n",
    "    if bar is None:\n",
    "        return False\n",
    "    \n",
    "    if real_key == bar.raw:\n",
    "        return True\n",
    "    else:\n",
    "        return False"
   ]
  },
  {
   "cell_type": "code",
   "execution_count": 455,
   "metadata": {},
   "outputs": [
    {
     "data": {
      "image/png": "[encoded data removed]",
      "text/plain": [
       "<Figure size 432x288 with 1 Axes>"
      ]
     },
     "metadata": {
      "needs_background": "light"
     },
     "output_type": "display_data"
    },
    {
     "data": {
      "image/png": "[encoded data removed]",
      "text/plain": [
       "<Figure size 432x288 with 1 Axes>"
      ]
     },
     "metadata": {
      "needs_background": "light"
     },
     "output_type": "display_data"
    },
    {
     "name": "stdout",
     "output_type": "stream",
     "text": [
      "CPU times: user 732 ms, sys: 67.6 ms, total: 799 ms\n",
      "Wall time: 1.02 s\n"
     ]
    },
    {
     "data": {
      "text/plain": [
       "False"
      ]
     },
     "execution_count": 455,
     "metadata": {},
     "output_type": "execute_result"
    }
   ],
   "source": [
    "%%time\n",
    "pixel_value_float_multiplying(\"qr1.png\", \"qr\", verbose=True, change_rate=.04)"
   ]
  },
  {
   "cell_type": "code",
   "execution_count": 226,
   "metadata": {},
   "outputs": [],
   "source": [
    "def color_inverse(fname: str, imtype: str, change_rate=.01, verbose=False) -> bool:\n",
    "    real_key = keys[int(fname.replace(imtype, \"\").replace(\".png\", \"\")) - 1]\n",
    "    img = cv.imread(imtype + \"/\" + fname, cv.IMREAD_GRAYSCALE)\n",
    "    \n",
    "    if verbose:\n",
    "        plt.imshow(img, cmap=\"gray\")\n",
    "        plt.show()\n",
    "    \n",
    "    _iter = int(img.shape[0] * img.shape[1] * change_rate)\n",
    "    change_set = set()\n",
    "    \n",
    "    for _ in range(_iter):\n",
    "        while 1:\n",
    "            _temp = (np.random.randint(0, img.shape[0]), np.random.randint(0, img.shape[1]))\n",
    "            if _temp not in change_set:\n",
    "                change_set.add(_temp)\n",
    "                break\n",
    "    \n",
    "    for x, y in change_set:\n",
    "        if img[x][y] == 0:\n",
    "            img[x][y] = 255\n",
    "        else:\n",
    "            img[x][y] = 0\n",
    "    \n",
    "    if verbose:\n",
    "        plt.imshow(img, cmap=\"gray\")\n",
    "        plt.show()\n",
    "        \n",
    "    Image.fromarray(img).save(\"buff.png\")\n",
    "    zx = BarCodeReader()\n",
    "    bar = zx.decode(\"buff.png\")\n",
    "    \n",
    "    if bar is None:\n",
    "        return False\n",
    "    \n",
    "    if real_key == bar.raw:\n",
    "        return True\n",
    "    else:\n",
    "        return False"
   ]
  },
  {
   "cell_type": "code",
   "execution_count": 474,
   "metadata": {},
   "outputs": [
    {
     "data": {
      "image/png": "[encoded data removed]",
      "text/plain": [
       "<Figure size 432x288 with 1 Axes>"
      ]
     },
     "metadata": {
      "needs_background": "light"
     },
     "output_type": "display_data"
    },
    {
     "data": {
      "image/png": "[encoded data removed]",
      "text/plain": [
       "<Figure size 432x288 with 1 Axes>"
      ]
     },
     "metadata": {
      "needs_background": "light"
     },
     "output_type": "display_data"
    },
    {
     "name": "stdout",
     "output_type": "stream",
     "text": [
      "CPU times: user 671 ms, sys: 63.1 ms, total: 734 ms\n",
      "Wall time: 891 ms\n"
     ]
    },
    {
     "data": {
      "text/plain": [
       "False"
      ]
     },
     "execution_count": 474,
     "metadata": {},
     "output_type": "execute_result"
    }
   ],
   "source": [
    "%%time\n",
    "color_inverse(\"aztec1.png\", \"aztec\", verbose=True, change_rate=.03)"
   ]
  },
  {
   "cell_type": "code",
   "execution_count": 244,
   "metadata": {},
   "outputs": [],
   "source": [
    "def broken_pixels(fname: str, imtype: str, change_rate=.01, verbose=False, mode=\"black\") -> bool:\n",
    "    assert mode in [\"black\", \"white\", \"mixed\"]\n",
    "    \n",
    "    real_key = keys[int(fname.replace(imtype, \"\").replace(\".png\", \"\")) - 1]\n",
    "    img = cv.imread(imtype + \"/\" + fname, cv.IMREAD_GRAYSCALE)\n",
    "    \n",
    "    if verbose:\n",
    "        plt.imshow(img, cmap=\"gray\")\n",
    "        plt.show()\n",
    "    \n",
    "    _iter = int(img.shape[0] * img.shape[1] * change_rate)\n",
    "    change_set = set()\n",
    "    \n",
    "    for _ in range(_iter):\n",
    "        while 1:\n",
    "            _temp = (np.random.randint(0, img.shape[0]), np.random.randint(0, img.shape[1]))\n",
    "            if _temp not in change_set:\n",
    "                change_set.add(_temp)\n",
    "                break\n",
    "    if mode==\"black\":\n",
    "        for x, y in change_set:\n",
    "            img[x][y] = 0\n",
    "    elif mode==\"white\":\n",
    "        for x, y in change_set:\n",
    "            img[x][y] = 255\n",
    "    elif mode==\"mixed\":\n",
    "        for x, y in change_set:\n",
    "            img[x][y] = random.choice([0, 255])\n",
    "    \n",
    "    if verbose:\n",
    "        plt.imshow(img, cmap=\"gray\")\n",
    "        plt.show()\n",
    "        \n",
    "    Image.fromarray(img).save(\"buff.png\")\n",
    "    zx = BarCodeReader()\n",
    "    bar = zx.decode(\"buff.png\")\n",
    "#     print(bar)\n",
    "    \n",
    "    if bar is None:\n",
    "        return False\n",
    "    \n",
    "    if real_key == bar.raw:\n",
    "        return True\n",
    "    else:\n",
    "        return False"
   ]
  },
  {
   "cell_type": "code",
   "execution_count": 675,
   "metadata": {},
   "outputs": [
    {
     "data": {
      "image/png": "[encoded data removed]",
      "text/plain": [
       "<Figure size 432x288 with 1 Axes>"
      ]
     },
     "metadata": {
      "needs_background": "light"
     },
     "output_type": "display_data"
    },
    {
     "data": {
      "image/png": "[encoded data removed]",
      "text/plain": [
       "<Figure size 432x288 with 1 Axes>"
      ]
     },
     "metadata": {
      "needs_background": "light"
     },
     "output_type": "display_data"
    },
    {
     "name": "stdout",
     "output_type": "stream",
     "text": [
      "CPU times: user 784 ms, sys: 97.9 ms, total: 881 ms\n",
      "Wall time: 2.67 s\n"
     ]
    },
    {
     "data": {
      "text/plain": [
       "True"
      ]
     },
     "execution_count": 675,
     "metadata": {},
     "output_type": "execute_result"
    }
   ],
   "source": [
    "%%time\n",
    "broken_pixels(\"qr1.png\", \"qr\", verbose=True, change_rate=.02, mode=\"black\")"
   ]
  },
  {
   "cell_type": "code",
   "execution_count": 319,
   "metadata": {},
   "outputs": [],
   "source": [
    "def gauss_noize(fname: str, imtype: str, change_rate=.01, verbose=False) -> bool:\n",
    "    real_key = keys[int(fname.replace(imtype, \"\").replace(\".png\", \"\")) - 1]\n",
    "    img = cv.imread(imtype + \"/\" + fname, cv.IMREAD_GRAYSCALE)\n",
    "    \n",
    "    if verbose:\n",
    "        plt.imshow(img, cmap=\"gray\")\n",
    "        plt.show()\n",
    "    \n",
    "    _iter = int(img.shape[0] * img.shape[1] * change_rate)\n",
    "    change_set = set()\n",
    "    _rand_subs = np.random.normal(loc=np.mean(img), scale=np.std(img), size=_iter)\n",
    "    \n",
    "    for _ in range(_iter):\n",
    "        while 1:\n",
    "            _temp = (np.random.randint(0, img.shape[0]), np.random.randint(0, img.shape[1]))\n",
    "            if _temp not in change_set:\n",
    "                change_set.add(_temp)\n",
    "                break\n",
    "    \n",
    "    for coords, rand in zip(change_set, _rand_subs):\n",
    "        img[coords[0]][coords[1]] = rand\n",
    "    \n",
    "    if verbose:\n",
    "        plt.imshow(img, cmap=\"gray\")\n",
    "        plt.show()\n",
    "        \n",
    "    Image.fromarray(img).save(\"buff.png\")\n",
    "    zx = BarCodeReader()\n",
    "    bar = zx.decode(\"buff.png\")\n",
    "    \n",
    "    if bar is None:\n",
    "        return False\n",
    "    \n",
    "    if real_key == bar.raw:\n",
    "        return True\n",
    "    else:\n",
    "        return False"
   ]
  },
  {
   "cell_type": "code",
   "execution_count": 511,
   "metadata": {},
   "outputs": [
    {
     "data": {
      "image/png": "[encoded data removed]",
      "text/plain": [
       "<Figure size 432x288 with 1 Axes>"
      ]
     },
     "metadata": {
      "needs_background": "light"
     },
     "output_type": "display_data"
    },
    {
     "data": {
      "image/png": "[encoded data removed]",
      "text/plain": [
       "<Figure size 432x288 with 1 Axes>"
      ]
     },
     "metadata": {
      "needs_background": "light"
     },
     "output_type": "display_data"
    },
    {
     "name": "stdout",
     "output_type": "stream",
     "text": [
      "CPU times: user 722 ms, sys: 66 ms, total: 788 ms\n",
      "Wall time: 943 ms\n"
     ]
    },
    {
     "data": {
      "text/plain": [
       "False"
      ]
     },
     "execution_count": 511,
     "metadata": {},
     "output_type": "execute_result"
    }
   ],
   "source": [
    "%%time\n",
    "gauss_noize(\"qr1.png\", \"qr\", verbose=True, change_rate=.02)"
   ]
  },
  {
   "cell_type": "code",
   "execution_count": 364,
   "metadata": {},
   "outputs": [],
   "source": [
    "def line_cropping(fname: str, imtype: str, verbose=False, mode=\"vertical\", line_width=5, color_mode=\"black\") -> bool:\n",
    "    assert mode in [\"vertical\", \"horizontal\"]\n",
    "    assert color_mode in [\"black\", \"white\"]\n",
    "    \n",
    "    real_key = keys[int(fname.replace(imtype, \"\").replace(\".png\", \"\")) - 1]\n",
    "    img = cv.imread(imtype + \"/\" + fname, cv.IMREAD_GRAYSCALE)\n",
    "    \n",
    "    if verbose:\n",
    "        plt.imshow(img, cmap=\"gray\")\n",
    "        plt.show()\n",
    "    \n",
    "    _assign_color = 255 if color_mode==\"white\" else 0\n",
    "    \n",
    "    if mode == \"vertical\":\n",
    "        _r_val = np.random.randint(0,img.shape[1] - line_width)\n",
    "        img[: , _r_val:_r_val+line_width] = _assign_color\n",
    "    elif mode == \"horizontal\":\n",
    "        _r_val = np.random.randint(0,img.shape[0] - line_width)\n",
    "        img[_r_val:_r_val+line_width, :] = _assign_color\n",
    "    \n",
    "    if verbose:\n",
    "        plt.imshow(img, cmap=\"gray\")\n",
    "        plt.show()\n",
    "        \n",
    "    Image.fromarray(img).save(\"buff.png\")\n",
    "    zx = BarCodeReader()\n",
    "    bar = zx.decode(\"buff.png\")\n",
    "    \n",
    "    if bar is None:\n",
    "        return False\n",
    "    \n",
    "    if real_key == bar.raw:\n",
    "        return True\n",
    "    else:\n",
    "        return False"
   ]
  },
  {
   "cell_type": "code",
   "execution_count": 521,
   "metadata": {
    "scrolled": false
   },
   "outputs": [
    {
     "data": {
      "image/png": "[encoded data removed]",
      "text/plain": [
       "<Figure size 432x288 with 1 Axes>"
      ]
     },
     "metadata": {
      "needs_background": "light"
     },
     "output_type": "display_data"
    },
    {
     "data": {
      "image/png": "[encoded data removed]",
      "text/plain": [
       "<Figure size 432x288 with 1 Axes>"
      ]
     },
     "metadata": {
      "needs_background": "light"
     },
     "output_type": "display_data"
    },
    {
     "name": "stdout",
     "output_type": "stream",
     "text": [
      "CPU times: user 697 ms, sys: 66.4 ms, total: 763 ms\n",
      "Wall time: 1.07 s\n"
     ]
    },
    {
     "data": {
      "text/plain": [
       "True"
      ]
     },
     "execution_count": 521,
     "metadata": {},
     "output_type": "execute_result"
    }
   ],
   "source": [
    "%%time\n",
    "line_cropping(\"qr1.png\", \"qr\", verbose=True, color_mode=\"white\", mode=\"vertical\", line_width=20)"
   ]
  },
  {
   "cell_type": "markdown",
   "metadata": {},
   "source": [
    "### 3) Blurring"
   ]
  },
  {
   "cell_type": "code",
   "execution_count": 392,
   "metadata": {},
   "outputs": [],
   "source": [
    "BLUR_TYPE = {\"mean\":ImageFilter.BoxBlur, \"median\":ImageFilter.MedianFilter, \"gaussian\":ImageFilter.GaussianBlur}"
   ]
  },
  {
   "cell_type": "code",
   "execution_count": 388,
   "metadata": {},
   "outputs": [],
   "source": [
    "def blur(fname: str, imtype: str, verbose=False, blur_type=\"mean\", radius=1) -> bool:\n",
    "    assert blur_type in BLUR_TYPE.keys()\n",
    "    \n",
    "    real_key = keys[int(fname.replace(imtype, \"\").replace(\".png\", \"\")) - 1]\n",
    "    img = cv.imread(imtype + \"/\" + fname, cv.IMREAD_GRAYSCALE)\n",
    "    pil_img = Image.fromarray(img)\n",
    "    \n",
    "    if verbose:\n",
    "        plt.imshow(img, cmap=\"gray\")\n",
    "        plt.show()\n",
    "        \n",
    "    if blur_type == \"median\":\n",
    "        pil_img = pil_img.filter(BLUR_TYPE[blur_type](size=radius))\n",
    "    else:\n",
    "        pil_img = pil_img.filter(BLUR_TYPE[blur_type](radius=radius))\n",
    "    pil_img.save(\"buff.png\")\n",
    "    \n",
    "    if verbose:\n",
    "        plt.imshow(np.asarray(pil_img), cmap=\"gray\")\n",
    "        plt.show()\n",
    "        \n",
    "    zx = BarCodeReader()\n",
    "    bar = zx.decode(\"buff.png\")\n",
    "    \n",
    "    if bar is None:\n",
    "        return False\n",
    "    \n",
    "    if real_key == bar.raw:\n",
    "        return True\n",
    "    else:\n",
    "        return False"
   ]
  },
  {
   "cell_type": "code",
   "execution_count": 734,
   "metadata": {
    "scrolled": false
   },
   "outputs": [
    {
     "data": {
      "image/png": "[encoded data removed]",
      "text/plain": [
       "<Figure size 432x288 with 1 Axes>"
      ]
     },
     "metadata": {
      "needs_background": "light"
     },
     "output_type": "display_data"
    },
    {
     "data": {
      "image/png": "[encoded data removed]",
      "text/plain": [
       "<Figure size 432x288 with 1 Axes>"
      ]
     },
     "metadata": {
      "needs_background": "light"
     },
     "output_type": "display_data"
    },
    {
     "name": "stdout",
     "output_type": "stream",
     "text": [
      "CPU times: user 701 ms, sys: 68.8 ms, total: 770 ms\n",
      "Wall time: 1.3 s\n"
     ]
    },
    {
     "data": {
      "text/plain": [
       "False"
      ]
     },
     "execution_count": 734,
     "metadata": {},
     "output_type": "execute_result"
    }
   ],
   "source": [
    "%%time\n",
    "blur(\"aztec2.png\", \"aztec\", verbose=True, blur_type=\"mean\", radius=1)"
   ]
  },
  {
   "cell_type": "code",
   "execution_count": 419,
   "metadata": {},
   "outputs": [],
   "source": [
    "def motion_blur(fname: str, imtype: str, verbose=False, kernel_size=3, mode=\"vertical\") -> bool:\n",
    "    assert mode in [\"vertical\", \"horizontal\"]\n",
    "    \n",
    "    real_key = keys[int(fname.replace(imtype, \"\").replace(\".png\", \"\")) - 1]\n",
    "    img = cv.imread(imtype + \"/\" + fname, cv.IMREAD_GRAYSCALE)\n",
    "    \n",
    "    if verbose:\n",
    "        plt.imshow(img, cmap=\"gray\")\n",
    "        plt.show()\n",
    "    \n",
    "    if mode==\"vertical\":\n",
    "        kernel_v = np.zeros((kernel_size, kernel_size))\n",
    "        kernel_v[:, int((kernel_size - 1)/2)] = np.ones(kernel_size)\n",
    "        kernel_v /= kernel_size\n",
    "        mb = cv.filter2D(img, -1, kernel_v)\n",
    "        \n",
    "    elif mode==\"horizontal\":\n",
    "        kernel_h = np.zeros((kernel_size, kernel_size))\n",
    "        kernel_h[int((kernel_size - 1)/2), :] = np.ones(kernel_size)\n",
    "        kernel_h /= kernel_size\n",
    "        mb = cv.filter2D(img, -1, kernel_h)\n",
    "        \n",
    "    if verbose:\n",
    "        plt.imshow(mb, cmap=\"gray\")\n",
    "        plt.show()\n",
    "        \n",
    "    Image.fromarray(mb).save(\"buff.png\")\n",
    "    \n",
    "    zx = BarCodeReader()\n",
    "    bar = zx.decode(\"buff.png\")\n",
    "    \n",
    "    if bar is None:\n",
    "        return False\n",
    "    \n",
    "    if real_key == bar.raw:\n",
    "        return True\n",
    "    else:\n",
    "        return False"
   ]
  },
  {
   "cell_type": "code",
   "execution_count": 680,
   "metadata": {},
   "outputs": [
    {
     "data": {
      "image/png": "[encoded data removed]",
      "text/plain": [
       "<Figure size 432x288 with 1 Axes>"
      ]
     },
     "metadata": {
      "needs_background": "light"
     },
     "output_type": "display_data"
    },
    {
     "data": {
      "image/png": "[encoded data removed]",
      "text/plain": [
       "<Figure size 432x288 with 1 Axes>"
      ]
     },
     "metadata": {
      "needs_background": "light"
     },
     "output_type": "display_data"
    },
    {
     "name": "stdout",
     "output_type": "stream",
     "text": [
      "CPU times: user 771 ms, sys: 89.8 ms, total: 861 ms\n",
      "Wall time: 2.36 s\n"
     ]
    },
    {
     "data": {
      "text/plain": [
       "False"
      ]
     },
     "execution_count": 680,
     "metadata": {},
     "output_type": "execute_result"
    }
   ],
   "source": [
    "%%time\n",
    "motion_blur(\"aztec1.png\", \"aztec\", verbose=True, mode=\"vertical\", kernel_size=7)"
   ]
  },
  {
   "cell_type": "markdown",
   "metadata": {},
   "source": [
    "### 4) Stats collection"
   ]
  },
  {
   "cell_type": "markdown",
   "metadata": {},
   "source": [
    "#### 4.1) Pixel value adding"
   ]
  },
  {
   "cell_type": "code",
   "execution_count": 443,
   "metadata": {},
   "outputs": [],
   "source": [
    "ch_rates = (.005, .01, .015)\n",
    "aztec_positive = []\n",
    "aztec_negative = []\n",
    "qr_positive = []\n",
    "qr_negative = []"
   ]
  },
  {
   "cell_type": "code",
   "execution_count": 444,
   "metadata": {},
   "outputs": [
    {
     "name": "stderr",
     "output_type": "stream",
     "text": [
      "100%|██████████| 1000/1000 [16:18<00:00,  1.02it/s]\n",
      "100%|██████████| 1000/1000 [16:30<00:00,  1.01it/s]\n",
      "100%|██████████| 1000/1000 [16:09<00:00,  1.03it/s]\n"
     ]
    }
   ],
   "source": [
    "np.random.seed(0)\n",
    "for rate in ch_rates:\n",
    "    for i in tqdm.tqdm(range(1,1001)):\n",
    "        if pixel_value_adding(\"qr{}.png\".format(i), \"qr\", verbose=False, change_rate=rate):\n",
    "            qr_positive.append((keys[i-1], rate))\n",
    "        else:\n",
    "            qr_negative.append((keys[i-1], rate))\n",
    "        if pixel_value_adding(\"aztec{}.png\".format(i), \"aztec\", verbose=False, change_rate=rate):\n",
    "            aztec_positive.append((keys[i-1], rate))\n",
    "        else:\n",
    "            aztec_negative.append((keys[i-1], rate))"
   ]
  },
  {
   "cell_type": "code",
   "execution_count": 607,
   "metadata": {},
   "outputs": [],
   "source": [
    "res_qr = [0 for _ in ch_rates]\n",
    "res_aztec = [0 for _ in ch_rates]\n",
    "rates = (.005, .01, .015)\n",
    "for i in aztec_positive:\n",
    "    res_aztec[rates.index(i[1])] += 1\n",
    "for i in qr_positive:\n",
    "    res_qr[rates.index(i[1])] += 1"
   ]
  },
  {
   "cell_type": "code",
   "execution_count": 608,
   "metadata": {},
   "outputs": [
    {
     "data": {
      "image/png": "[encoded data removed]",
      "text/plain": [
       "<Figure size 432x288 with 1 Axes>"
      ]
     },
     "metadata": {
      "needs_background": "light"
     },
     "output_type": "display_data"
    }
   ],
   "source": [
    "labels = rates\n",
    "perf = [i/1000 for i in res_qr]\n",
    "y_pos = np.arange(len(labels))\n",
    "plt.ylim(0, 1)\n",
    "plt.bar(y_pos, perf, align='center', alpha=0.5)\n",
    "plt.xticks(y_pos, labels)\n",
    "plt.ylabel(\"Positive/overall exp. ratio\")\n",
    "plt.xlabel(\"Rate of changed pixels\")\n",
    "plt.title(\"QR Performance(Pixel value adding)\")\n",
    "plt.show()"
   ]
  },
  {
   "cell_type": "code",
   "execution_count": 609,
   "metadata": {},
   "outputs": [
    {
     "data": {
      "image/png": "[encoded data removed]",
      "text/plain": [
       "<Figure size 432x288 with 1 Axes>"
      ]
     },
     "metadata": {
      "needs_background": "light"
     },
     "output_type": "display_data"
    }
   ],
   "source": [
    "labels = rates\n",
    "perf = [i/1000 for i in res_aztec]\n",
    "y_pos = np.arange(len(labels))\n",
    "plt.ylim(0, 1)\n",
    "plt.bar(y_pos, perf, align='center', alpha=0.5)\n",
    "plt.xticks(y_pos, labels)\n",
    "plt.ylabel(\"Positive/overall exp. ratio\")\n",
    "plt.xlabel(\"Rate of changed pixels\")\n",
    "plt.title(\"Aztec Performance(Pixel value adding)\")\n",
    "plt.show()"
   ]
  },
  {
   "cell_type": "markdown",
   "metadata": {},
   "source": [
    "#### 4.2) Float mult"
   ]
  },
  {
   "cell_type": "code",
   "execution_count": 456,
   "metadata": {},
   "outputs": [],
   "source": [
    "ch_rates = (.01, .02, .03)\n",
    "aztec_positive1 = []\n",
    "aztec_negative1 = []\n",
    "qr_positive1 = []\n",
    "qr_negative1 = []"
   ]
  },
  {
   "cell_type": "code",
   "execution_count": 457,
   "metadata": {},
   "outputs": [
    {
     "name": "stderr",
     "output_type": "stream",
     "text": [
      "100%|██████████| 1000/1000 [16:40<00:00,  1.00s/it]\n",
      "100%|██████████| 1000/1000 [16:24<00:00,  1.02it/s]\n",
      "100%|██████████| 1000/1000 [16:15<00:00,  1.02it/s]\n"
     ]
    }
   ],
   "source": [
    "np.random.seed(0)\n",
    "for rate in ch_rates:\n",
    "    for i in tqdm.tqdm(range(1,1001)):\n",
    "        if pixel_value_float_multiplying(\"qr{}.png\".format(i), \"qr\", verbose=False, change_rate=rate):\n",
    "            qr_positive1.append((keys[i-1], rate))\n",
    "        else:\n",
    "            qr_negative1.append((keys[i-1], rate))\n",
    "        if pixel_value_float_multiplying(\"aztec{}.png\".format(i), \"aztec\", verbose=False, change_rate=rate):\n",
    "            aztec_positive1.append((keys[i-1], rate))\n",
    "        else:\n",
    "            aztec_negative1.append((keys[i-1], rate))"
   ]
  },
  {
   "cell_type": "code",
   "execution_count": 458,
   "metadata": {},
   "outputs": [
    {
     "data": {
      "text/plain": [
       "1775"
      ]
     },
     "execution_count": 458,
     "metadata": {},
     "output_type": "execute_result"
    }
   ],
   "source": [
    "len(qr_positive1)"
   ]
  },
  {
   "cell_type": "code",
   "execution_count": 459,
   "metadata": {},
   "outputs": [
    {
     "data": {
      "text/plain": [
       "2163"
      ]
     },
     "execution_count": 459,
     "metadata": {},
     "output_type": "execute_result"
    }
   ],
   "source": [
    "len(aztec_positive1)"
   ]
  },
  {
   "cell_type": "code",
   "execution_count": 610,
   "metadata": {},
   "outputs": [],
   "source": [
    "res_qr = [0 for _ in ch_rates]\n",
    "res_aztec = [0 for _ in ch_rates]\n",
    "rates = (.01, .02, .03)\n",
    "for i in aztec_positive1:\n",
    "    res_aztec[rates.index(i[1])] += 1\n",
    "for i in qr_positive1:\n",
    "    res_qr[rates.index(i[1])] += 1"
   ]
  },
  {
   "cell_type": "code",
   "execution_count": 611,
   "metadata": {},
   "outputs": [
    {
     "data": {
      "image/png": "[encoded data removed]",
      "text/plain": [
       "<Figure size 432x288 with 1 Axes>"
      ]
     },
     "metadata": {
      "needs_background": "light"
     },
     "output_type": "display_data"
    }
   ],
   "source": [
    "labels = rates\n",
    "perf = [i/1000 for i in res_qr]\n",
    "y_pos = np.arange(len(labels))\n",
    "plt.ylim(0, 1)\n",
    "plt.bar(y_pos, perf, align='center', alpha=0.5)\n",
    "plt.xticks(y_pos, labels)\n",
    "plt.ylabel(\"Positive/overall exp. ratio\")\n",
    "plt.xlabel(\"Rate of changed pixels\")\n",
    "plt.title(\"QR Performance(Pixel float mult)\")\n",
    "plt.show()"
   ]
  },
  {
   "cell_type": "code",
   "execution_count": 612,
   "metadata": {},
   "outputs": [
    {
     "data": {
      "image/png": "[encoded data removed]",
      "text/plain": [
       "<Figure size 432x288 with 1 Axes>"
      ]
     },
     "metadata": {
      "needs_background": "light"
     },
     "output_type": "display_data"
    }
   ],
   "source": [
    "labels = rates\n",
    "perf = [i/1000 for i in res_aztec]\n",
    "y_pos = np.arange(len(labels))\n",
    "plt.ylim(0, 1)\n",
    "plt.bar(y_pos, perf, align='center', alpha=0.5)\n",
    "plt.xticks(y_pos, labels)\n",
    "plt.ylabel(\"Positive/overall exp. ratio\")\n",
    "plt.xlabel(\"Rate of changed pixels\")\n",
    "plt.title(\"Aztec Performance(Pixel float mult)\")\n",
    "plt.show()"
   ]
  },
  {
   "cell_type": "markdown",
   "metadata": {},
   "source": [
    "#### 4.3) Color Inverse"
   ]
  },
  {
   "cell_type": "code",
   "execution_count": 476,
   "metadata": {},
   "outputs": [],
   "source": [
    "ch_rates = (.015, .02, .025)\n",
    "aztec_positive2 = []\n",
    "aztec_negative2 = []\n",
    "qr_positive2 = []\n",
    "qr_negative2 = []"
   ]
  },
  {
   "cell_type": "code",
   "execution_count": 477,
   "metadata": {},
   "outputs": [
    {
     "name": "stderr",
     "output_type": "stream",
     "text": [
      "100%|██████████| 1000/1000 [16:03<00:00,  1.04it/s]\n",
      "100%|██████████| 1000/1000 [15:48<00:00,  1.05it/s]\n",
      "100%|██████████| 1000/1000 [15:33<00:00,  1.07it/s]\n"
     ]
    }
   ],
   "source": [
    "np.random.seed(0)\n",
    "for rate in ch_rates:\n",
    "    for i in tqdm.tqdm(range(1,1001)):\n",
    "        if color_inverse(\"qr{}.png\".format(i), \"qr\", verbose=False, change_rate=rate):\n",
    "            qr_positive2.append((keys[i-1], rate))\n",
    "        else:\n",
    "            qr_negative2.append((keys[i-1], rate))\n",
    "        if color_inverse(\"aztec{}.png\".format(i), \"aztec\", verbose=False, change_rate=rate):\n",
    "            aztec_positive2.append((keys[i-1], rate))\n",
    "        else:\n",
    "            aztec_negative2.append((keys[i-1], rate))"
   ]
  },
  {
   "cell_type": "code",
   "execution_count": 478,
   "metadata": {},
   "outputs": [
    {
     "data": {
      "text/plain": [
       "495"
      ]
     },
     "execution_count": 478,
     "metadata": {},
     "output_type": "execute_result"
    }
   ],
   "source": [
    "len(qr_positive2)"
   ]
  },
  {
   "cell_type": "code",
   "execution_count": 479,
   "metadata": {},
   "outputs": [
    {
     "data": {
      "text/plain": [
       "1167"
      ]
     },
     "execution_count": 479,
     "metadata": {},
     "output_type": "execute_result"
    }
   ],
   "source": [
    "len(aztec_positive2)"
   ]
  },
  {
   "cell_type": "code",
   "execution_count": 613,
   "metadata": {},
   "outputs": [],
   "source": [
    "res_qr = [0 for _ in ch_rates]\n",
    "res_aztec = [0 for _ in ch_rates]\n",
    "rates = (.015, .02, .025)\n",
    "for i in aztec_positive2:\n",
    "    res_aztec[rates.index(i[1])] += 1\n",
    "for i in qr_positive2:\n",
    "    res_qr[rates.index(i[1])] += 1"
   ]
  },
  {
   "cell_type": "code",
   "execution_count": 614,
   "metadata": {},
   "outputs": [
    {
     "data": {
      "image/png": "[encoded data removed]",
      "text/plain": [
       "<Figure size 432x288 with 1 Axes>"
      ]
     },
     "metadata": {
      "needs_background": "light"
     },
     "output_type": "display_data"
    }
   ],
   "source": [
    "labels = rates\n",
    "perf = [i/1000 for i in res_qr]\n",
    "y_pos = np.arange(len(labels))\n",
    "plt.ylim(0, 1)\n",
    "plt.bar(y_pos, perf, align='center', alpha=0.5)\n",
    "plt.xticks(y_pos, labels)\n",
    "plt.ylabel(\"Positive/overall exp. ratio\")\n",
    "plt.xlabel(\"Rate of changed pixels\")\n",
    "plt.title(\"QR Performance(Color Inv)\")\n",
    "plt.show()"
   ]
  },
  {
   "cell_type": "code",
   "execution_count": 615,
   "metadata": {},
   "outputs": [
    {
     "data": {
      "image/png": "[encoded data removed]",
      "text/plain": [
       "<Figure size 432x288 with 1 Axes>"
      ]
     },
     "metadata": {
      "needs_background": "light"
     },
     "output_type": "display_data"
    }
   ],
   "source": [
    "labels = rates\n",
    "perf = [i/1000 for i in res_aztec]\n",
    "y_pos = np.arange(len(labels))\n",
    "plt.ylim(0, 1)\n",
    "plt.bar(y_pos, perf, align='center', alpha=0.5)\n",
    "plt.xticks(y_pos, labels)\n",
    "plt.ylabel(\"Positive/overall exp. ratio\")\n",
    "plt.xlabel(\"Rate of changed pixels\")\n",
    "plt.title(\"Aztec Performance(Color Inv)\")\n",
    "plt.show()"
   ]
  },
  {
   "cell_type": "markdown",
   "metadata": {},
   "source": [
    "#### 4.4) Broken pixels in black mode"
   ]
  },
  {
   "cell_type": "code",
   "execution_count": 488,
   "metadata": {},
   "outputs": [],
   "source": [
    "ch_rates = (.01, .02, .03)\n",
    "aztec_positive3 = []\n",
    "aztec_negative3 = []\n",
    "qr_positive3 = []\n",
    "qr_negative3 = []"
   ]
  },
  {
   "cell_type": "code",
   "execution_count": 489,
   "metadata": {},
   "outputs": [
    {
     "name": "stderr",
     "output_type": "stream",
     "text": [
      "100%|██████████| 1000/1000 [16:28<00:00,  1.01it/s]\n",
      "100%|██████████| 1000/1000 [16:03<00:00,  1.04it/s]\n",
      "100%|██████████| 1000/1000 [15:58<00:00,  1.04it/s]\n"
     ]
    }
   ],
   "source": [
    "np.random.seed(0)\n",
    "for rate in ch_rates:\n",
    "    for i in tqdm.tqdm(range(1,1001)):\n",
    "        if broken_pixels(\"qr{}.png\".format(i), \"qr\", verbose=False, change_rate=rate, mode=\"black\"):\n",
    "            qr_positive3.append((keys[i-1], rate))\n",
    "        else:\n",
    "            qr_negative3.append((keys[i-1], rate))\n",
    "\n",
    "        if broken_pixels(\"aztec{}.png\".format(i), \"aztec\", verbose=False, change_rate=rate, mode=\"black\"):\n",
    "            aztec_positive3.append((keys[i-1], rate))\n",
    "        else:\n",
    "            aztec_negative3.append((keys[i-1], rate))"
   ]
  },
  {
   "cell_type": "code",
   "execution_count": 490,
   "metadata": {},
   "outputs": [
    {
     "data": {
      "text/plain": [
       "1810"
      ]
     },
     "execution_count": 490,
     "metadata": {},
     "output_type": "execute_result"
    }
   ],
   "source": [
    "len(qr_positive3)"
   ]
  },
  {
   "cell_type": "code",
   "execution_count": 491,
   "metadata": {},
   "outputs": [
    {
     "data": {
      "text/plain": [
       "2105"
      ]
     },
     "execution_count": 491,
     "metadata": {},
     "output_type": "execute_result"
    }
   ],
   "source": [
    "len(aztec_positive3)"
   ]
  },
  {
   "cell_type": "code",
   "execution_count": 616,
   "metadata": {},
   "outputs": [],
   "source": [
    "res_qr = [0 for _ in ch_rates]\n",
    "res_aztec = [0 for _ in ch_rates]\n",
    "rates = (.01, .02, .03)\n",
    "for i in aztec_positive3:\n",
    "    res_aztec[rates.index(i[1])] += 1\n",
    "for i in qr_positive3:\n",
    "    res_qr[rates.index(i[1])] += 1"
   ]
  },
  {
   "cell_type": "code",
   "execution_count": 617,
   "metadata": {},
   "outputs": [
    {
     "data": {
      "image/png": "[encoded data removed]",
      "text/plain": [
       "<Figure size 432x288 with 1 Axes>"
      ]
     },
     "metadata": {
      "needs_background": "light"
     },
     "output_type": "display_data"
    }
   ],
   "source": [
    "labels = rates\n",
    "perf = [i/1000 for i in res_qr]\n",
    "y_pos = np.arange(len(labels))\n",
    "plt.ylim(0, 1)\n",
    "plt.bar(y_pos, perf, align='center', alpha=0.5)\n",
    "plt.xticks(y_pos, labels)\n",
    "plt.ylabel(\"Positive/overall exp. ratio\")\n",
    "plt.xlabel(\"Rate of changed pixels\")\n",
    "plt.title(\"QR Performance(broken black)\")\n",
    "plt.show()"
   ]
  },
  {
   "cell_type": "code",
   "execution_count": 618,
   "metadata": {},
   "outputs": [
    {
     "data": {
      "image/png": "[encoded data removed]",
      "text/plain": [
       "<Figure size 432x288 with 1 Axes>"
      ]
     },
     "metadata": {
      "needs_background": "light"
     },
     "output_type": "display_data"
    }
   ],
   "source": [
    "labels = rates\n",
    "perf = [i/1000 for i in res_aztec]\n",
    "y_pos = np.arange(len(labels))\n",
    "plt.ylim(0, 1)\n",
    "plt.bar(y_pos, perf, align='center', alpha=0.5)\n",
    "plt.xticks(y_pos, labels)\n",
    "plt.ylabel(\"Positive/overall exp. ratio\")\n",
    "plt.xlabel(\"Rate of changed pixels\")\n",
    "plt.title(\"Aztec Performance(broken black)\")\n",
    "plt.show()"
   ]
  },
  {
   "cell_type": "markdown",
   "metadata": {},
   "source": [
    "#### 4.5) Broken white"
   ]
  },
  {
   "cell_type": "code",
   "execution_count": 495,
   "metadata": {},
   "outputs": [],
   "source": [
    "ch_rates = (.01, .02, .03)\n",
    "aztec_positive4 = []\n",
    "aztec_negative4 = []\n",
    "qr_positive4 = []\n",
    "qr_negative4 = []"
   ]
  },
  {
   "cell_type": "code",
   "execution_count": 496,
   "metadata": {},
   "outputs": [
    {
     "name": "stderr",
     "output_type": "stream",
     "text": [
      "100%|██████████| 1000/1000 [16:09<00:00,  1.03it/s]\n",
      "100%|██████████| 1000/1000 [16:19<00:00,  1.02it/s]\n",
      "100%|██████████| 1000/1000 [15:50<00:00,  1.05it/s]\n"
     ]
    }
   ],
   "source": [
    "np.random.seed(0)\n",
    "for rate in ch_rates:\n",
    "    for i in tqdm.tqdm(range(1,1001)):\n",
    "        if broken_pixels(\"qr{}.png\".format(i), \"qr\", verbose=False, change_rate=rate, mode=\"white\"):\n",
    "            qr_positive4.append((keys[i-1], rate))\n",
    "        else:\n",
    "            qr_negative4.append((keys[i-1], rate))\n",
    "        if broken_pixels(\"aztec{}.png\".format(i), \"aztec\", verbose=False, change_rate=rate, mode=\"white\"):\n",
    "            aztec_positive4.append((keys[i-1], rate))\n",
    "        else:\n",
    "            aztec_negative4.append((keys[i-1], rate))\n"
   ]
  },
  {
   "cell_type": "code",
   "execution_count": 583,
   "metadata": {},
   "outputs": [
    {
     "data": {
      "text/plain": [
       "837"
      ]
     },
     "execution_count": 583,
     "metadata": {},
     "output_type": "execute_result"
    }
   ],
   "source": [
    "len(qr_positive4)"
   ]
  },
  {
   "cell_type": "code",
   "execution_count": 584,
   "metadata": {},
   "outputs": [
    {
     "data": {
      "text/plain": [
       "1909"
      ]
     },
     "execution_count": 584,
     "metadata": {},
     "output_type": "execute_result"
    }
   ],
   "source": [
    "len(aztec_positive4)"
   ]
  },
  {
   "cell_type": "code",
   "execution_count": 619,
   "metadata": {},
   "outputs": [],
   "source": [
    "res_qr = [0 for _ in ch_rates]\n",
    "res_aztec = [0 for _ in ch_rates]\n",
    "rates = (.01, .02, .03)\n",
    "for i in aztec_positive4:\n",
    "    res_aztec[rates.index(i[1])] += 1\n",
    "for i in qr_positive4:\n",
    "    res_qr[rates.index(i[1])] += 1"
   ]
  },
  {
   "cell_type": "code",
   "execution_count": 620,
   "metadata": {},
   "outputs": [
    {
     "data": {
      "image/png": "[encoded data removed]",
      "text/plain": [
       "<Figure size 432x288 with 1 Axes>"
      ]
     },
     "metadata": {
      "needs_background": "light"
     },
     "output_type": "display_data"
    }
   ],
   "source": [
    "labels = rates\n",
    "perf = [i/1000 for i in res_qr]\n",
    "y_pos = np.arange(len(labels))\n",
    "plt.ylim(0, 1)\n",
    "plt.bar(y_pos, perf, align='center', alpha=0.5)\n",
    "plt.xticks(y_pos, labels)\n",
    "plt.ylabel(\"Positive/overall exp. ratio\")\n",
    "plt.xlabel(\"Rate of changed pixels\")\n",
    "plt.title(\"QR Performance(broken white)\")\n",
    "plt.show()"
   ]
  },
  {
   "cell_type": "code",
   "execution_count": 621,
   "metadata": {},
   "outputs": [
    {
     "data": {
      "image/png": "[encoded data removed]",
      "text/plain": [
       "<Figure size 432x288 with 1 Axes>"
      ]
     },
     "metadata": {
      "needs_background": "light"
     },
     "output_type": "display_data"
    }
   ],
   "source": [
    "labels = rates\n",
    "perf = [i/1000 for i in res_aztec]\n",
    "y_pos = np.arange(len(labels))\n",
    "plt.ylim(0, 1)\n",
    "plt.bar(y_pos, perf, align='center', alpha=0.5)\n",
    "plt.xticks(y_pos, labels)\n",
    "plt.ylabel(\"Positive/overall exp. ratio\")\n",
    "plt.xlabel(\"Rate of changed pixels\")\n",
    "plt.title(\"Aztec Performance(broken white)\")\n",
    "plt.show()"
   ]
  },
  {
   "cell_type": "markdown",
   "metadata": {},
   "source": [
    "#### 4.5) Broken mixed"
   ]
  },
  {
   "cell_type": "code",
   "execution_count": 499,
   "metadata": {},
   "outputs": [],
   "source": [
    "ch_rates = (.01, .02, .03)\n",
    "aztec_positive5 = []\n",
    "aztec_negative5 = []\n",
    "qr_positive5 = []\n",
    "qr_negative5 = []"
   ]
  },
  {
   "cell_type": "code",
   "execution_count": 500,
   "metadata": {},
   "outputs": [
    {
     "name": "stderr",
     "output_type": "stream",
     "text": [
      "100%|██████████| 1000/1000 [16:45<00:00,  1.01s/it]\n",
      "100%|██████████| 1000/1000 [16:12<00:00,  1.03it/s]\n",
      "100%|██████████| 1000/1000 [15:51<00:00,  1.05it/s]\n"
     ]
    }
   ],
   "source": [
    "np.random.seed(0)\n",
    "for rate in ch_rates:\n",
    "    for i in tqdm.tqdm(range(1,1001)):\n",
    "        if broken_pixels(\"qr{}.png\".format(i), \"qr\", verbose=False, change_rate=rate, mode=\"mixed\"):\n",
    "            qr_positive5.append((keys[i-1], rate))\n",
    "        else:\n",
    "            qr_negative5.append((keys[i-1], rate))\n",
    "        if broken_pixels(\"aztec{}.png\".format(i), \"aztec\", verbose=False, change_rate=rate, mode=\"mixed\"):\n",
    "            aztec_positive5.append((keys[i-1], rate))\n",
    "        else:\n",
    "            aztec_negative5.append((keys[i-1], rate))"
   ]
  },
  {
   "cell_type": "code",
   "execution_count": 502,
   "metadata": {},
   "outputs": [
    {
     "data": {
      "text/plain": [
       "1218"
      ]
     },
     "execution_count": 502,
     "metadata": {},
     "output_type": "execute_result"
    }
   ],
   "source": [
    "len(qr_positive5)"
   ]
  },
  {
   "cell_type": "code",
   "execution_count": 503,
   "metadata": {},
   "outputs": [
    {
     "data": {
      "text/plain": [
       "2194"
      ]
     },
     "execution_count": 503,
     "metadata": {},
     "output_type": "execute_result"
    }
   ],
   "source": [
    "len(aztec_positive5)"
   ]
  },
  {
   "cell_type": "code",
   "execution_count": 622,
   "metadata": {},
   "outputs": [],
   "source": [
    "res_qr = [0 for _ in ch_rates]\n",
    "res_aztec = [0 for _ in ch_rates]\n",
    "rates = (.01, .02, .03)\n",
    "for i in aztec_positive5:\n",
    "    res_aztec[rates.index(i[1])] += 1\n",
    "for i in qr_positive5:\n",
    "    res_qr[rates.index(i[1])] += 1"
   ]
  },
  {
   "cell_type": "code",
   "execution_count": 623,
   "metadata": {},
   "outputs": [
    {
     "data": {
      "image/png": "[encoded data removed]",
      "text/plain": [
       "<Figure size 432x288 with 1 Axes>"
      ]
     },
     "metadata": {
      "needs_background": "light"
     },
     "output_type": "display_data"
    }
   ],
   "source": [
    "labels = rates\n",
    "perf = [i/1000 for i in res_qr]\n",
    "y_pos = np.arange(len(labels))\n",
    "plt.ylim(0, 1)\n",
    "plt.bar(y_pos, perf, align='center', alpha=0.5)\n",
    "plt.xticks(y_pos, labels)\n",
    "plt.ylabel(\"Positive/overall exp. ratio\")\n",
    "plt.xlabel(\"Rate of changed pixels\")\n",
    "plt.title(\"QR Performance(broken mixed)\")\n",
    "plt.show()"
   ]
  },
  {
   "cell_type": "code",
   "execution_count": 624,
   "metadata": {},
   "outputs": [
    {
     "data": {
      "image/png": "[encoded data removed]",
      "text/plain": [
       "<Figure size 432x288 with 1 Axes>"
      ]
     },
     "metadata": {
      "needs_background": "light"
     },
     "output_type": "display_data"
    }
   ],
   "source": [
    "labels = rates\n",
    "perf = [i/1000 for i in res_aztec]\n",
    "y_pos = np.arange(len(labels))\n",
    "plt.ylim(0, 1)\n",
    "plt.bar(y_pos, perf, align='center', alpha=0.5)\n",
    "plt.xticks(y_pos, labels)\n",
    "plt.ylabel(\"Positive/overall exp. ratio\")\n",
    "plt.xlabel(\"Rate of changed pixels\")\n",
    "plt.title(\"Aztec Performance(broken mixed)\")\n",
    "plt.show()"
   ]
  },
  {
   "cell_type": "markdown",
   "metadata": {},
   "source": [
    "#### 4.6) gauss noize"
   ]
  },
  {
   "cell_type": "code",
   "execution_count": 512,
   "metadata": {},
   "outputs": [],
   "source": [
    "ch_rates = (.01, .015, .02)\n",
    "aztec_positive6 = []\n",
    "aztec_negative6 = []\n",
    "qr_positive6 = []\n",
    "qr_negative6 = []"
   ]
  },
  {
   "cell_type": "code",
   "execution_count": 513,
   "metadata": {},
   "outputs": [
    {
     "name": "stderr",
     "output_type": "stream",
     "text": [
      "100%|██████████| 1000/1000 [16:50<00:00,  1.01s/it]\n",
      "100%|██████████| 1000/1000 [16:02<00:00,  1.04it/s]\n",
      "100%|██████████| 1000/1000 [16:02<00:00,  1.04it/s]\n"
     ]
    }
   ],
   "source": [
    "np.random.seed(0)\n",
    "for rate in ch_rates:\n",
    "    for i in tqdm.tqdm(range(1,1001)):\n",
    "        if gauss_noize(\"qr{}.png\".format(i), \"qr\", verbose=False, change_rate=rate):\n",
    "            qr_positive6.append((keys[i-1], rate))\n",
    "        else:\n",
    "            qr_negative6.append((keys[i-1], rate))\n",
    "        if gauss_noize(\"aztec{}.png\".format(i), \"aztec\", verbose=False, change_rate=rate):\n",
    "            aztec_positive6.append((keys[i-1], rate))\n",
    "        else:\n",
    "            aztec_negative6.append((keys[i-1], rate))"
   ]
  },
  {
   "cell_type": "code",
   "execution_count": 514,
   "metadata": {},
   "outputs": [
    {
     "data": {
      "text/plain": [
       "1468"
      ]
     },
     "execution_count": 514,
     "metadata": {},
     "output_type": "execute_result"
    }
   ],
   "source": [
    "len(qr_positive6)"
   ]
  },
  {
   "cell_type": "code",
   "execution_count": 515,
   "metadata": {},
   "outputs": [
    {
     "data": {
      "text/plain": [
       "2477"
      ]
     },
     "execution_count": 515,
     "metadata": {},
     "output_type": "execute_result"
    }
   ],
   "source": [
    "len(aztec_positive6)"
   ]
  },
  {
   "cell_type": "code",
   "execution_count": 625,
   "metadata": {},
   "outputs": [],
   "source": [
    "res_qr = [0 for _ in ch_rates]\n",
    "res_aztec = [0 for _ in ch_rates]\n",
    "rates = (.01, .015, .02)\n",
    "for i in aztec_positive6:\n",
    "    res_aztec[rates.index(i[1])] += 1\n",
    "for i in qr_positive6:\n",
    "    res_qr[rates.index(i[1])] += 1"
   ]
  },
  {
   "cell_type": "code",
   "execution_count": 626,
   "metadata": {},
   "outputs": [
    {
     "data": {
      "image/png": "[encoded data removed]",
      "text/plain": [
       "<Figure size 432x288 with 1 Axes>"
      ]
     },
     "metadata": {
      "needs_background": "light"
     },
     "output_type": "display_data"
    }
   ],
   "source": [
    "labels = rates\n",
    "perf = [i/1000 for i in res_qr]\n",
    "y_pos = np.arange(len(labels))\n",
    "plt.ylim(0, 1)\n",
    "plt.bar(y_pos, perf, align='center', alpha=0.5)\n",
    "plt.xticks(y_pos, labels)\n",
    "plt.ylabel(\"Positive/overall exp. ratio\")\n",
    "plt.xlabel(\"Rate of changed pixels\")\n",
    "plt.title(\"QR Performance(gauss noise)\")\n",
    "plt.show()"
   ]
  },
  {
   "cell_type": "code",
   "execution_count": 627,
   "metadata": {},
   "outputs": [
    {
     "data": {
      "image/png": "[encoded data removed]",
      "text/plain": [
       "<Figure size 432x288 with 1 Axes>"
      ]
     },
     "metadata": {
      "needs_background": "light"
     },
     "output_type": "display_data"
    }
   ],
   "source": [
    "labels = rates\n",
    "perf = [i/1000 for i in res_aztec]\n",
    "y_pos = np.arange(len(labels))\n",
    "plt.ylim(0, 1)\n",
    "plt.bar(y_pos, perf, align='center', alpha=0.5)\n",
    "plt.xticks(y_pos, labels)\n",
    "plt.ylabel(\"Positive/overall exp. ratio\")\n",
    "plt.xlabel(\"Rate of changed pixels\")\n",
    "plt.title(\"Aztec Performance(gauss noise)\")\n",
    "plt.show()"
   ]
  },
  {
   "cell_type": "markdown",
   "metadata": {},
   "source": [
    "#### 4.7) line cropping vertical"
   ]
  },
  {
   "cell_type": "code",
   "execution_count": 524,
   "metadata": {},
   "outputs": [],
   "source": [
    "ch_rates = (10, 15, 20)\n",
    "aztec_positive7 = []\n",
    "aztec_negative7 = []\n",
    "qr_positive7 = []\n",
    "qr_negative7 = []"
   ]
  },
  {
   "cell_type": "code",
   "execution_count": 525,
   "metadata": {},
   "outputs": [
    {
     "name": "stderr",
     "output_type": "stream",
     "text": [
      "100%|██████████| 1000/1000 [15:48<00:00,  1.05it/s]\n",
      "100%|██████████| 1000/1000 [16:01<00:00,  1.04it/s]\n",
      "100%|██████████| 1000/1000 [15:58<00:00,  1.04it/s]\n"
     ]
    }
   ],
   "source": [
    "np.random.seed(0)\n",
    "for rate in ch_rates:\n",
    "    for i in tqdm.tqdm(range(1,1001)):\n",
    "        if line_cropping(\"qr{}.png\".format(i), \"qr\", verbose=False, color_mode=\"white\", mode=\"vertical\", line_width=rate):\n",
    "            qr_positive7.append((keys[i-1], rate))\n",
    "        else:\n",
    "            qr_negative7.append((keys[i-1], rate))\n",
    "        if line_cropping(\"aztec{}.png\".format(i), \"aztec\", verbose=False, color_mode=\"white\", mode=\"vertical\", line_width=rate):\n",
    "            aztec_positive7.append((keys[i-1], rate))\n",
    "        else:\n",
    "            aztec_negative7.append((keys[i-1], rate))"
   ]
  },
  {
   "cell_type": "code",
   "execution_count": 526,
   "metadata": {},
   "outputs": [
    {
     "data": {
      "text/plain": [
       "1715"
      ]
     },
     "execution_count": 526,
     "metadata": {},
     "output_type": "execute_result"
    }
   ],
   "source": [
    "len(qr_positive7)"
   ]
  },
  {
   "cell_type": "code",
   "execution_count": 527,
   "metadata": {},
   "outputs": [
    {
     "data": {
      "text/plain": [
       "388"
      ]
     },
     "execution_count": 527,
     "metadata": {},
     "output_type": "execute_result"
    }
   ],
   "source": [
    "len(aztec_positive7)"
   ]
  },
  {
   "cell_type": "code",
   "execution_count": 628,
   "metadata": {},
   "outputs": [],
   "source": [
    "res_qr = [0 for _ in ch_rates]\n",
    "res_aztec = [0 for _ in ch_rates]\n",
    "rates = (10, 15, 20)\n",
    "for i in aztec_positive7:\n",
    "    res_aztec[rates.index(i[1])] += 1\n",
    "for i in qr_positive7:\n",
    "    res_qr[rates.index(i[1])] += 1"
   ]
  },
  {
   "cell_type": "code",
   "execution_count": 629,
   "metadata": {},
   "outputs": [
    {
     "data": {
      "image/png": "[encoded data removed]",
      "text/plain": [
       "<Figure size 432x288 with 1 Axes>"
      ]
     },
     "metadata": {
      "needs_background": "light"
     },
     "output_type": "display_data"
    }
   ],
   "source": [
    "labels = rates\n",
    "perf = [i/1000 for i in res_qr]\n",
    "y_pos = np.arange(len(labels))\n",
    "plt.ylim(0, 1)\n",
    "plt.bar(y_pos, perf, align='center', alpha=0.5)\n",
    "plt.xticks(y_pos, labels)\n",
    "plt.ylabel(\"Positive/overall exp. ratio\")\n",
    "plt.xlabel(\"Line width\")\n",
    "plt.title(\"QR Performance(line crop vertical)\")\n",
    "plt.show()"
   ]
  },
  {
   "cell_type": "code",
   "execution_count": 635,
   "metadata": {},
   "outputs": [
    {
     "data": {
      "image/png": "[encoded data removed]",
      "text/plain": [
       "<Figure size 432x288 with 1 Axes>"
      ]
     },
     "metadata": {
      "needs_background": "light"
     },
     "output_type": "display_data"
    }
   ],
   "source": [
    "labels = rates\n",
    "perf = [i/1000 for i in res_aztec]\n",
    "y_pos = np.arange(len(labels))\n",
    "plt.ylim(0, 1)\n",
    "plt.bar(y_pos, perf, align='center', alpha=0.5)\n",
    "plt.xticks(y_pos, labels)\n",
    "plt.ylabel(\"Positive/overall exp. ratio\")\n",
    "plt.xlabel(\"Line width\")\n",
    "plt.title(\"Aztec Performance(line crop vertical)\")\n",
    "plt.show()"
   ]
  },
  {
   "cell_type": "markdown",
   "metadata": {},
   "source": [
    "#### 4.7) line cropping horizontal"
   ]
  },
  {
   "cell_type": "code",
   "execution_count": 528,
   "metadata": {},
   "outputs": [],
   "source": [
    "ch_rates = (10, 15, 20)\n",
    "aztec_positive8 = []\n",
    "aztec_negative8 = []\n",
    "qr_positive8 = []\n",
    "qr_negative8 = []"
   ]
  },
  {
   "cell_type": "code",
   "execution_count": 529,
   "metadata": {},
   "outputs": [
    {
     "name": "stderr",
     "output_type": "stream",
     "text": [
      "100%|██████████| 1000/1000 [15:54<00:00,  1.05it/s]\n",
      "100%|██████████| 1000/1000 [15:52<00:00,  1.05it/s]\n",
      "100%|██████████| 1000/1000 [15:31<00:00,  1.07it/s]\n"
     ]
    }
   ],
   "source": [
    "np.random.seed(0)\n",
    "for rate in ch_rates:\n",
    "    for i in tqdm.tqdm(range(1,1001)):\n",
    "        if line_cropping(\"qr{}.png\".format(i), \"qr\", verbose=False, color_mode=\"white\", mode=\"horizontal\", line_width=rate):\n",
    "            qr_positive8.append((keys[i-1], rate))\n",
    "        else:\n",
    "            qr_negative8.append((keys[i-1], rate))\n",
    "        if line_cropping(\"aztec{}.png\".format(i), \"aztec\", verbose=False, color_mode=\"white\", mode=\"horizontal\", line_width=rate):\n",
    "            aztec_positive8.append((keys[i-1], rate))\n",
    "        else:\n",
    "            aztec_negative8.append((keys[i-1], rate))"
   ]
  },
  {
   "cell_type": "code",
   "execution_count": 530,
   "metadata": {},
   "outputs": [
    {
     "data": {
      "text/plain": [
       "1361"
      ]
     },
     "execution_count": 530,
     "metadata": {},
     "output_type": "execute_result"
    }
   ],
   "source": [
    "len(qr_positive8)"
   ]
  },
  {
   "cell_type": "code",
   "execution_count": 531,
   "metadata": {
    "scrolled": true
   },
   "outputs": [
    {
     "data": {
      "text/plain": [
       "423"
      ]
     },
     "execution_count": 531,
     "metadata": {},
     "output_type": "execute_result"
    }
   ],
   "source": [
    "len(aztec_positive8)"
   ]
  },
  {
   "cell_type": "code",
   "execution_count": 636,
   "metadata": {},
   "outputs": [],
   "source": [
    "res_qr = [0 for _ in ch_rates]\n",
    "res_aztec = [0 for _ in ch_rates]\n",
    "rates = (10, 15, 20)\n",
    "for i in aztec_positive8:\n",
    "    res_aztec[rates.index(i[1])] += 1\n",
    "for i in qr_positive8:\n",
    "    res_qr[rates.index(i[1])] += 1"
   ]
  },
  {
   "cell_type": "code",
   "execution_count": 637,
   "metadata": {},
   "outputs": [
    {
     "data": {
      "image/png": "[encoded data removed]",
      "text/plain": [
       "<Figure size 432x288 with 1 Axes>"
      ]
     },
     "metadata": {
      "needs_background": "light"
     },
     "output_type": "display_data"
    }
   ],
   "source": [
    "labels = rates\n",
    "perf = [i/1000 for i in res_qr]\n",
    "y_pos = np.arange(len(labels))\n",
    "plt.ylim(0, 1)\n",
    "plt.bar(y_pos, perf, align='center', alpha=0.5)\n",
    "plt.xticks(y_pos, labels)\n",
    "plt.ylabel(\"Positive/overall exp. ratio\")\n",
    "plt.xlabel(\"Line width\")\n",
    "plt.title(\"QR Performance(line crop horiz)\")\n",
    "plt.show()"
   ]
  },
  {
   "cell_type": "code",
   "execution_count": 638,
   "metadata": {},
   "outputs": [
    {
     "data": {
      "image/png": "[encoded data removed]",
      "text/plain": [
       "<Figure size 432x288 with 1 Axes>"
      ]
     },
     "metadata": {
      "needs_background": "light"
     },
     "output_type": "display_data"
    }
   ],
   "source": [
    "labels = rates\n",
    "perf = [i/1000 for i in res_aztec]\n",
    "y_pos = np.arange(len(labels))\n",
    "plt.ylim(0, 1)\n",
    "plt.bar(y_pos, perf, align='center', alpha=0.5)\n",
    "plt.xticks(y_pos, labels)\n",
    "plt.ylabel(\"Positive/overall exp. ratio\")\n",
    "plt.xlabel(\"Line width\")\n",
    "plt.title(\"Aztec Performance(line crop horiz)\")\n",
    "plt.show()"
   ]
  },
  {
   "cell_type": "markdown",
   "metadata": {},
   "source": [
    "### 5) Blurring"
   ]
  },
  {
   "cell_type": "markdown",
   "metadata": {},
   "source": [
    "#### 5.1) Motion blur vert"
   ]
  },
  {
   "cell_type": "code",
   "execution_count": 661,
   "metadata": {},
   "outputs": [],
   "source": [
    "ch_rates = (5, 6, 7)\n",
    "aztec_positive9 = []\n",
    "aztec_negative9 = []\n",
    "qr_positive9 = []\n",
    "qr_negative9 = []"
   ]
  },
  {
   "cell_type": "code",
   "execution_count": 663,
   "metadata": {},
   "outputs": [
    {
     "name": "stderr",
     "output_type": "stream",
     "text": [
      "100%|██████████| 1000/1000 [16:34<00:00,  1.01it/s]\n",
      "100%|██████████| 1000/1000 [16:08<00:00,  1.03it/s]\n",
      "100%|██████████| 1000/1000 [16:20<00:00,  1.02it/s]\n"
     ]
    }
   ],
   "source": [
    "np.random.seed(0)\n",
    "for rate in ch_rates:\n",
    "    for i in tqdm.tqdm(range(1,1001)):\n",
    "        if motion_blur(\"qr{}.png\".format(i), \"qr\", verbose=False, mode=\"vertical\", kernel_size=rate):\n",
    "            qr_positive9.append((keys[i-1], rate))\n",
    "        else:\n",
    "            qr_negative9.append((keys[i-1], rate))\n",
    "        if motion_blur(\"aztec{}.png\".format(i), \"aztec\", verbose=False, mode=\"vertical\", kernel_size=rate):\n",
    "            aztec_positive9.append((keys[i-1], rate))\n",
    "        else:\n",
    "            aztec_negative9.append((keys[i-1], rate))"
   ]
  },
  {
   "cell_type": "code",
   "execution_count": 670,
   "metadata": {},
   "outputs": [
    {
     "data": {
      "text/plain": [
       "1647"
      ]
     },
     "execution_count": 670,
     "metadata": {},
     "output_type": "execute_result"
    }
   ],
   "source": [
    "len(aztec_positive9)"
   ]
  },
  {
   "cell_type": "code",
   "execution_count": 666,
   "metadata": {},
   "outputs": [],
   "source": [
    "res_qr = [0 for _ in ch_rates]\n",
    "res_aztec = [0 for _ in ch_rates]\n",
    "rates = (5, 6, 7)\n",
    "for i in aztec_positive9:\n",
    "    res_aztec[rates.index(i[1])] += 1\n",
    "for i in qr_positive9:\n",
    "    res_qr[rates.index(i[1])] += 1"
   ]
  },
  {
   "cell_type": "code",
   "execution_count": 668,
   "metadata": {},
   "outputs": [
    {
     "data": {
      "image/png": "[encoded data removed]",
      "text/plain": [
       "<Figure size 432x288 with 1 Axes>"
      ]
     },
     "metadata": {
      "needs_background": "light"
     },
     "output_type": "display_data"
    }
   ],
   "source": [
    "labels = rates\n",
    "perf = [i/1000 for i in res_qr]\n",
    "y_pos = np.arange(len(labels))\n",
    "plt.ylim(0, 1)\n",
    "plt.bar(y_pos, perf, align='center', alpha=0.5)\n",
    "plt.xticks(y_pos, labels)\n",
    "plt.ylabel(\"Positive/overall exp. ratio\")\n",
    "plt.xlabel(\"K size\")\n",
    "plt.title(\"QR Performance(motion blur)\")\n",
    "plt.show()"
   ]
  },
  {
   "cell_type": "code",
   "execution_count": 669,
   "metadata": {},
   "outputs": [
    {
     "data": {
      "image/png": "[encoded data removed]",
      "text/plain": [
       "<Figure size 432x288 with 1 Axes>"
      ]
     },
     "metadata": {
      "needs_background": "light"
     },
     "output_type": "display_data"
    }
   ],
   "source": [
    "labels = rates\n",
    "perf = [i/1000 for i in res_aztec]\n",
    "y_pos = np.arange(len(labels))\n",
    "plt.ylim(0, 1)\n",
    "plt.bar(y_pos, perf, align='center', alpha=0.5)\n",
    "plt.xticks(y_pos, labels)\n",
    "plt.ylabel(\"Positive/overall exp. ratio\")\n",
    "plt.xlabel(\"K size\")\n",
    "plt.title(\"Aztec Performance(motion blur)\")\n",
    "plt.show()"
   ]
  },
  {
   "cell_type": "markdown",
   "metadata": {},
   "source": [
    "#### 5.2) Median blur"
   ]
  },
  {
   "cell_type": "code",
   "execution_count": 706,
   "metadata": {},
   "outputs": [],
   "source": [
    "ch_rates = (3, 5)\n",
    "aztec_positive10 = []\n",
    "aztec_negative10 = []\n",
    "qr_positive10 = []\n",
    "qr_negative10 = []"
   ]
  },
  {
   "cell_type": "code",
   "execution_count": 707,
   "metadata": {},
   "outputs": [
    {
     "name": "stderr",
     "output_type": "stream",
     "text": [
      "100%|██████████| 1000/1000 [16:05<00:00,  1.04it/s]\n",
      "100%|██████████| 1000/1000 [15:36<00:00,  1.07it/s]\n"
     ]
    }
   ],
   "source": [
    "np.random.seed(0)\n",
    "for rate in ch_rates:\n",
    "    for i in tqdm.tqdm(range(1,1001)):\n",
    "        if blur(\"qr{}.png\".format(i), \"qr\", verbose=False, radius=rate, blur_type=\"median\"):\n",
    "            qr_positive10.append((keys[i-1], rate))\n",
    "        else:\n",
    "            qr_negative10.append((keys[i-1], rate))\n",
    "        if blur(\"aztec{}.png\".format(i), \"aztec\", verbose=False, radius=rate, blur_type=\"median\"):\n",
    "            aztec_positive10.append((keys[i-1], rate))\n",
    "        else:\n",
    "            aztec_negative10.append((keys[i-1], rate))"
   ]
  },
  {
   "cell_type": "code",
   "execution_count": 709,
   "metadata": {},
   "outputs": [],
   "source": [
    "res_qr = [0 for _ in ch_rates]\n",
    "res_aztec = [0 for _ in ch_rates]\n",
    "rates = (3, 5)\n",
    "for i in aztec_positive10:\n",
    "    res_aztec[rates.index(i[1])] += 1\n",
    "for i in qr_positive10:\n",
    "    res_qr[rates.index(i[1])] += 1"
   ]
  },
  {
   "cell_type": "code",
   "execution_count": 711,
   "metadata": {},
   "outputs": [
    {
     "data": {
      "image/png": "[encoded data removed]",
      "text/plain": [
       "<Figure size 432x288 with 1 Axes>"
      ]
     },
     "metadata": {
      "needs_background": "light"
     },
     "output_type": "display_data"
    }
   ],
   "source": [
    "labels = rates\n",
    "perf = [i/1000 for i in res_qr]\n",
    "y_pos = np.arange(len(labels))\n",
    "plt.ylim(0, 1)\n",
    "plt.bar(y_pos, perf, align='center', alpha=0.5)\n",
    "plt.xticks(y_pos, labels)\n",
    "plt.ylabel(\"Positive/overall exp. ratio\")\n",
    "plt.xlabel(\"K size\")\n",
    "plt.title(\"QR Performance(median blur)\")\n",
    "plt.show()"
   ]
  },
  {
   "cell_type": "code",
   "execution_count": 712,
   "metadata": {},
   "outputs": [
    {
     "data": {
      "image/png": "[encoded data removed]",
      "text/plain": [
       "<Figure size 432x288 with 1 Axes>"
      ]
     },
     "metadata": {
      "needs_background": "light"
     },
     "output_type": "display_data"
    }
   ],
   "source": [
    "labels = rates\n",
    "perf = [i/1000 for i in res_aztec]\n",
    "y_pos = np.arange(len(labels))\n",
    "plt.ylim(0, 1)\n",
    "plt.bar(y_pos, perf, align='center', alpha=0.5)\n",
    "plt.xticks(y_pos, labels)\n",
    "plt.ylabel(\"Positive/overall exp. ratio\")\n",
    "plt.xlabel(\"K size\")\n",
    "plt.title(\"Aztec Performance(median blur)\")\n",
    "plt.show()"
   ]
  },
  {
   "cell_type": "markdown",
   "metadata": {},
   "source": [
    "#### 5.3) BoxBlur"
   ]
  },
  {
   "cell_type": "code",
   "execution_count": 726,
   "metadata": {},
   "outputs": [],
   "source": [
    "ch_rates = (1, 2)\n",
    "aztec_positive11 = []\n",
    "aztec_negative11 = []\n",
    "qr_positive11 = []\n",
    "qr_negative11 = []"
   ]
  },
  {
   "cell_type": "code",
   "execution_count": 727,
   "metadata": {},
   "outputs": [
    {
     "name": "stderr",
     "output_type": "stream",
     "text": [
      "100%|██████████| 1000/1000 [16:05<00:00,  1.04it/s]\n",
      "100%|██████████| 1000/1000 [15:49<00:00,  1.05it/s]\n"
     ]
    }
   ],
   "source": [
    "np.random.seed(0)\n",
    "for rate in ch_rates:\n",
    "    for i in tqdm.tqdm(range(1,1001)):\n",
    "        if blur(\"qr{}.png\".format(i), \"qr\", verbose=False, radius=rate, blur_type=\"mean\"):\n",
    "            qr_positive11.append((keys[i-1], rate))\n",
    "        else:\n",
    "            qr_negative11.append((keys[i-1], rate))\n",
    "        if blur(\"aztec{}.png\".format(i), \"aztec\", verbose=False, radius=rate, blur_type=\"mean\"):\n",
    "            aztec_positive11.append((keys[i-1], rate))\n",
    "        else:\n",
    "            aztec_negative11.append((keys[i-1], rate))"
   ]
  },
  {
   "cell_type": "code",
   "execution_count": 730,
   "metadata": {},
   "outputs": [],
   "source": [
    "res_qr = [0 for _ in ch_rates]\n",
    "res_aztec = [0 for _ in ch_rates]\n",
    "rates = (1, 2)\n",
    "for i in aztec_positive11:\n",
    "    res_aztec[rates.index(i[1])] += 1\n",
    "for i in qr_positive11:\n",
    "    res_qr[rates.index(i[1])] += 1"
   ]
  },
  {
   "cell_type": "code",
   "execution_count": 731,
   "metadata": {},
   "outputs": [
    {
     "data": {
      "image/png": "[encoded data removed]",
      "text/plain": [
       "<Figure size 432x288 with 1 Axes>"
      ]
     },
     "metadata": {
      "needs_background": "light"
     },
     "output_type": "display_data"
    }
   ],
   "source": [
    "labels = rates\n",
    "perf = [i/1000 for i in res_qr]\n",
    "y_pos = np.arange(len(labels))\n",
    "plt.ylim(0, 1)\n",
    "plt.bar(y_pos, perf, align='center', alpha=0.5)\n",
    "plt.xticks(y_pos, labels)\n",
    "plt.ylabel(\"Positive/overall exp. ratio\")\n",
    "plt.xlabel(\"radius size\")\n",
    "plt.title(\"QR Performance(mean blur)\")\n",
    "plt.show()"
   ]
  },
  {
   "cell_type": "code",
   "execution_count": 732,
   "metadata": {},
   "outputs": [
    {
     "data": {
      "image/png": "[encoded data removed]",
      "text/plain": [
       "<Figure size 432x288 with 1 Axes>"
      ]
     },
     "metadata": {
      "needs_background": "light"
     },
     "output_type": "display_data"
    }
   ],
   "source": [
    "labels = rates\n",
    "perf = [i/1000 for i in res_aztec]\n",
    "y_pos = np.arange(len(labels))\n",
    "plt.ylim(0, 1)\n",
    "plt.bar(y_pos, perf, align='center', alpha=0.5)\n",
    "plt.xticks(y_pos, labels)\n",
    "plt.ylabel(\"Positive/overall exp. ratio\")\n",
    "plt.xlabel(\"radius size\")\n",
    "plt.title(\"Aztec Performance(mean blur)\")\n",
    "plt.show()"
   ]
  },
  {
   "cell_type": "markdown",
   "metadata": {},
   "source": [
    "#### 5.4) MB horiz"
   ]
  },
  {
   "cell_type": "code",
   "execution_count": 735,
   "metadata": {},
   "outputs": [],
   "source": [
    "ch_rates = (5, 6, 7)\n",
    "aztec_positive12 = []\n",
    "aztec_negative12 = []\n",
    "qr_positive12 = []\n",
    "qr_negative12 = []"
   ]
  },
  {
   "cell_type": "code",
   "execution_count": 736,
   "metadata": {},
   "outputs": [
    {
     "name": "stderr",
     "output_type": "stream",
     "text": [
      "100%|██████████| 1000/1000 [16:33<00:00,  1.01it/s]\n",
      "100%|██████████| 1000/1000 [15:42<00:00,  1.06it/s]\n",
      "100%|██████████| 1000/1000 [15:52<00:00,  1.05it/s]\n"
     ]
    }
   ],
   "source": [
    "np.random.seed(0)\n",
    "for rate in ch_rates:\n",
    "    for i in tqdm.tqdm(range(1,1001)):\n",
    "        if motion_blur(\"qr{}.png\".format(i), \"qr\", verbose=False, mode=\"horizontal\", kernel_size=rate):\n",
    "            qr_positive12.append((keys[i-1], rate))\n",
    "        else:\n",
    "            qr_negative12.append((keys[i-1], rate))\n",
    "        if motion_blur(\"aztec{}.png\".format(i), \"aztec\", verbose=False, mode=\"horizontal\", kernel_size=rate):\n",
    "            aztec_positive12.append((keys[i-1], rate))\n",
    "        else:\n",
    "            aztec_negative12.append((keys[i-1], rate))"
   ]
  },
  {
   "cell_type": "code",
   "execution_count": 737,
   "metadata": {},
   "outputs": [],
   "source": [
    "res_qr = [0 for _ in ch_rates]\n",
    "res_aztec = [0 for _ in ch_rates]\n",
    "rates = (5, 6, 7)\n",
    "for i in aztec_positive12:\n",
    "    res_aztec[rates.index(i[1])] += 1\n",
    "for i in qr_positive12:\n",
    "    res_qr[rates.index(i[1])] += 1"
   ]
  },
  {
   "cell_type": "code",
   "execution_count": 738,
   "metadata": {},
   "outputs": [
    {
     "data": {
      "image/png": "[encoded data removed]",
      "text/plain": [
       "<Figure size 432x288 with 1 Axes>"
      ]
     },
     "metadata": {
      "needs_background": "light"
     },
     "output_type": "display_data"
    }
   ],
   "source": [
    "labels = rates\n",
    "perf = [i/1000 for i in res_qr]\n",
    "y_pos = np.arange(len(labels))\n",
    "plt.ylim(0, 1)\n",
    "plt.bar(y_pos, perf, align='center', alpha=0.5)\n",
    "plt.xticks(y_pos, labels)\n",
    "plt.ylabel(\"Positive/overall exp. ratio\")\n",
    "plt.xlabel(\"K size\")\n",
    "plt.title(\"QR Performance(motion blur horiz)\")\n",
    "plt.show()"
   ]
  },
  {
   "cell_type": "code",
   "execution_count": 739,
   "metadata": {},
   "outputs": [
    {
     "data": {
      "image/png": "[encoded data removed]",
      "text/plain": [
       "<Figure size 432x288 with 1 Axes>"
      ]
     },
     "metadata": {
      "needs_background": "light"
     },
     "output_type": "display_data"
    }
   ],
   "source": [
    "labels = rates\n",
    "perf = [i/1000 for i in res_aztec]\n",
    "y_pos = np.arange(len(labels))\n",
    "plt.ylim(0, 1)\n",
    "plt.bar(y_pos, perf, align='center', alpha=0.5)\n",
    "plt.xticks(y_pos, labels)\n",
    "plt.ylabel(\"Positive/overall exp. ratio\")\n",
    "plt.xlabel(\"K size\")\n",
    "plt.title(\"Aztec Performance(motion blur horiz)\")\n",
    "plt.show()"
   ]
  },
  {
   "cell_type": "markdown",
   "metadata": {},
   "source": [
    "### 6) Xor"
   ]
  },
  {
   "cell_type": "code",
   "execution_count": 740,
   "metadata": {},
   "outputs": [],
   "source": [
    "ch_rates = (.01, .015, .02)\n",
    "aztec_positive13 = []\n",
    "aztec_negative13 = []\n",
    "qr_positive13 = []\n",
    "qr_negative13 = []"
   ]
  },
  {
   "cell_type": "code",
   "execution_count": 741,
   "metadata": {},
   "outputs": [
    {
     "name": "stderr",
     "output_type": "stream",
     "text": [
      "100%|██████████| 1000/1000 [16:21<00:00,  1.02it/s]\n",
      "100%|██████████| 1000/1000 [16:20<00:00,  1.02it/s]\n",
      "100%|██████████| 1000/1000 [15:52<00:00,  1.05it/s]\n"
     ]
    }
   ],
   "source": [
    "np.random.seed(0)\n",
    "for rate in ch_rates:\n",
    "    for i in tqdm.tqdm(range(1,1001)):\n",
    "        if pixel_value_xor(\"qr{}.png\".format(i), \"qr\", verbose=False, change_rate=rate):\n",
    "            qr_positive13.append((keys[i-1], rate))\n",
    "        else:\n",
    "            qr_negative13.append((keys[i-1], rate))\n",
    "        if pixel_value_xor(\"aztec{}.png\".format(i), \"aztec\", verbose=False, change_rate=rate):\n",
    "            aztec_positive13.append((keys[i-1], rate))\n",
    "        else:\n",
    "            aztec_negative13.append((keys[i-1], rate))"
   ]
  },
  {
   "cell_type": "code",
   "execution_count": 742,
   "metadata": {},
   "outputs": [],
   "source": [
    "res_qr = [0 for _ in ch_rates]\n",
    "res_aztec = [0 for _ in ch_rates]\n",
    "rates = (.01, .015, .02)\n",
    "for i in aztec_positive13:\n",
    "    res_aztec[rates.index(i[1])] += 1\n",
    "for i in qr_positive13:\n",
    "    res_qr[rates.index(i[1])] += 1"
   ]
  },
  {
   "cell_type": "code",
   "execution_count": 743,
   "metadata": {},
   "outputs": [
    {
     "data": {
      "image/png": "[encoded data removed]",
      "text/plain": [
       "<Figure size 432x288 with 1 Axes>"
      ]
     },
     "metadata": {
      "needs_background": "light"
     },
     "output_type": "display_data"
    }
   ],
   "source": [
    "labels = rates\n",
    "perf = [i/1000 for i in res_qr]\n",
    "y_pos = np.arange(len(labels))\n",
    "plt.ylim(0, 1)\n",
    "plt.bar(y_pos, perf, align='center', alpha=0.5)\n",
    "plt.xticks(y_pos, labels)\n",
    "plt.ylabel(\"Positive/overall exp. ratio\")\n",
    "plt.xlabel(\"change ratio\")\n",
    "plt.title(\"QR Performance(xor pixels)\")\n",
    "plt.show()"
   ]
  },
  {
   "cell_type": "code",
   "execution_count": 744,
   "metadata": {},
   "outputs": [
    {
     "data": {
      "image/png": "[encoded data removed]",
      "text/plain": [
       "<Figure size 432x288 with 1 Axes>"
      ]
     },
     "metadata": {
      "needs_background": "light"
     },
     "output_type": "display_data"
    }
   ],
   "source": [
    "labels = rates\n",
    "perf = [i/1000 for i in res_aztec]\n",
    "y_pos = np.arange(len(labels))\n",
    "plt.ylim(0, 1)\n",
    "plt.bar(y_pos, perf, align='center', alpha=0.5)\n",
    "plt.xticks(y_pos, labels)\n",
    "plt.ylabel(\"Positive/overall exp. ratio\")\n",
    "plt.xlabel(\"change ratio\")\n",
    "plt.title(\"Aztec Performance(xor pixels)\")\n",
    "plt.show()"
   ]
  }
 ],
 "metadata": {
  "kernelspec": {
   "display_name": "Python 3",
   "language": "python",
   "name": "python3"
  },
  "language_info": {
   "codemirror_mode": {
    "name": "ipython",
    "version": 3
   },
   "file_extension": ".py",
   "mimetype": "text/x-python",
   "name": "python",
   "nbconvert_exporter": "python",
   "pygments_lexer": "ipython3",
   "version": "3.6.5"
  }
 },
 "nbformat": 4,
 "nbformat_minor": 2
}
